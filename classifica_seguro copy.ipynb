{
 "cells": [
  {
   "cell_type": "markdown",
   "id": "412191f1",
   "metadata": {},
   "source": [
    "# Objetivo da Atidade"
   ]
  },
  {
   "cell_type": "markdown",
   "id": "f54319a6",
   "metadata": {},
   "source": [
    "Prever se um cliente vai dar calote no mês seguinte (default.payment.next.month), com base em suas informações financeiras e de pagamento."
   ]
  },
  {
   "cell_type": "markdown",
   "id": "f9bfadc2",
   "metadata": {},
   "source": [
    "## Etapa 1: Carregamento dos Dados"
   ]
  },
  {
   "cell_type": "code",
   "execution_count": null,
   "id": "e60f8fb9",
   "metadata": {},
   "outputs": [],
   "source": []
  },
  {
   "cell_type": "code",
   "execution_count": null,
   "id": "4ff706d6",
   "metadata": {},
   "outputs": [],
   "source": []
  },
  {
   "cell_type": "code",
   "execution_count": null,
   "id": "97d0babf",
   "metadata": {},
   "outputs": [],
   "source": []
  },
  {
   "cell_type": "markdown",
   "id": "306a1f42",
   "metadata": {},
   "source": [
    "## Etapa 2: Exploração Inicial"
   ]
  },
  {
   "cell_type": "markdown",
   "id": "10c6a3dc",
   "metadata": {},
   "source": [
    "Objetivo: Investigar estatísticas e identificar colunas irrelevantes."
   ]
  },
  {
   "cell_type": "code",
   "execution_count": null,
   "id": "f57c1037",
   "metadata": {},
   "outputs": [],
   "source": [
    "\n",
    "\n"
   ]
  },
  {
   "cell_type": "code",
   "execution_count": null,
   "id": "c9dc02a1",
   "metadata": {},
   "outputs": [],
   "source": [
    "\n",
    "\n"
   ]
  },
  {
   "cell_type": "code",
   "execution_count": null,
   "id": "abc6446e",
   "metadata": {},
   "outputs": [],
   "source": []
  },
  {
   "cell_type": "markdown",
   "id": "679739a2",
   "metadata": {},
   "source": [
    "## Etapa 3: Preparação dos Dados"
   ]
  },
  {
   "cell_type": "markdown",
   "id": "7022bf10",
   "metadata": {},
   "source": [
    "Objetivo: Separar features e alvo, remover colunas desnecessárias, normalizar se necessário."
   ]
  },
  {
   "cell_type": "code",
   "execution_count": null,
   "id": "e98b992a",
   "metadata": {},
   "outputs": [],
   "source": [
    "\n"
   ]
  },
  {
   "cell_type": "markdown",
   "id": "95bd87e0",
   "metadata": {},
   "source": [
    "## Etapa 4: Divisão em Treino e Teste"
   ]
  },
  {
   "cell_type": "markdown",
   "id": "83e6d581",
   "metadata": {},
   "source": [
    "Objetivo: Separar dados para avaliação justa do modelo."
   ]
  },
  {
   "cell_type": "code",
   "execution_count": null,
   "id": "e5fd4240",
   "metadata": {},
   "outputs": [],
   "source": [
    "\n"
   ]
  },
  {
   "cell_type": "markdown",
   "id": "e9135892",
   "metadata": {},
   "source": [
    "## Etapa 5: Treinamento do Modelo"
   ]
  },
  {
   "cell_type": "markdown",
   "id": "a1aae9bb",
   "metadata": {},
   "source": [
    "Objetivo: Treinar um modelo de classificação (comece com Logistic Regression)."
   ]
  },
  {
   "cell_type": "code",
   "execution_count": null,
   "id": "5e8c305d",
   "metadata": {},
   "outputs": [],
   "source": [
    "\n"
   ]
  },
  {
   "cell_type": "markdown",
   "id": "298dfd61",
   "metadata": {},
   "source": [
    "## Etapa 6: Avaliação do Modelo"
   ]
  },
  {
   "cell_type": "markdown",
   "id": "5f2c1cb6",
   "metadata": {},
   "source": [
    "Objetivo: Calcular métricas de desempenho como acurácia e matriz de confusão."
   ]
  },
  {
   "cell_type": "code",
   "execution_count": null,
   "id": "c805a16a",
   "metadata": {},
   "outputs": [],
   "source": [
    "\n"
   ]
  },
  {
   "cell_type": "markdown",
   "id": "d23335af",
   "metadata": {},
   "source": [
    "## Etapa 7: Testes com Outro Modelo (opcional)"
   ]
  },
  {
   "cell_type": "markdown",
   "id": "bb29aad4",
   "metadata": {},
   "source": [
    "Objetivo: Comparar com outro modelo mais robusto (ex: RandomForest)."
   ]
  },
  {
   "cell_type": "code",
   "execution_count": null,
   "id": "e88e5e21",
   "metadata": {},
   "outputs": [],
   "source": [
    "\n"
   ]
  },
  {
   "cell_type": "code",
   "execution_count": null,
   "id": "ec467199",
   "metadata": {},
   "outputs": [],
   "source": []
  }
 ],
 "metadata": {
  "kernelspec": {
   "display_name": "Python 3",
   "language": "python",
   "name": "python3"
  },
  "language_info": {
   "codemirror_mode": {
    "name": "ipython",
    "version": 3
   },
   "file_extension": ".py",
   "mimetype": "text/x-python",
   "name": "python",
   "nbconvert_exporter": "python",
   "pygments_lexer": "ipython3",
   "version": "3.12.1"
  }
 },
 "nbformat": 4,
 "nbformat_minor": 5
}
